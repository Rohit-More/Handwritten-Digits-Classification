{
 "cells": [
  {
   "cell_type": "code",
   "execution_count": 2,
   "metadata": {
    "execution": {
     "iopub.execute_input": "2022-02-24T07:40:37.557108Z",
     "iopub.status.busy": "2022-02-24T07:40:37.556607Z",
     "iopub.status.idle": "2022-02-24T07:40:43.025444Z",
     "shell.execute_reply": "2022-02-24T07:40:43.024574Z",
     "shell.execute_reply.started": "2022-02-24T07:40:37.557076Z"
    }
   },
   "outputs": [
    {
     "name": "stdout",
     "output_type": "stream",
     "text": [
      "Tensor Flow Version: 2.6.2\n",
      "Keras Version: 2.6.0\n"
     ]
    }
   ],
   "source": [
    "import os\n",
    "import pickle as pkl\n",
    "\n",
    "# import numpy as np\n",
    "# import pandas as pd\n",
    "import tensorflow as tf\n",
    "import keras\n",
    "from keras.preprocessing.image import image_dataset_from_directory\n",
    "from keras import layers\n",
    "from matplotlib import pyplot as plt\n",
    "import seaborn as sns\n",
    "\n",
    "print(f\"Tensor Flow Version: {tf.__version__}\")\n",
    "print(f\"Keras Version: {keras.__version__}\")\n",
    "# print(f\"Pandas {pd.__version__}\")"
   ]
  },
  {
   "cell_type": "code",
   "execution_count": 8,
   "metadata": {
    "execution": {
     "iopub.execute_input": "2022-02-24T07:44:21.233517Z",
     "iopub.status.busy": "2022-02-24T07:44:21.233185Z",
     "iopub.status.idle": "2022-02-24T07:44:21.239884Z",
     "shell.execute_reply": "2022-02-24T07:44:21.238763Z",
     "shell.execute_reply.started": "2022-02-24T07:44:21.233479Z"
    },
    "pycharm": {
     "name": "#%%\n"
    }
   },
   "outputs": [
    {
     "name": "stdout",
     "output_type": "stream",
     "text": [
      "../input/hindi-mnist-data/DevanagariHandwrittenDigitDataset\n"
     ]
    }
   ],
   "source": [
    "DATA_FOLDER = \"../input/hindi-mnist-data\"\n",
    "TRAIN_FOLDER_NAME = \"Train\"\n",
    "TEST_FOLDER_NAME = \"Test\"\n",
    "DEVANAGARI_DATA_FOLDER = os.path.join(DATA_FOLDER, \"DevanagariHandwrittenDigitDataset\")\n",
    "print(DEVANAGARI_DATA_FOLDER)"
   ]
  },
  {
   "cell_type": "code",
   "execution_count": 4,
   "metadata": {
    "execution": {
     "iopub.execute_input": "2022-02-24T07:43:06.675761Z",
     "iopub.status.busy": "2022-02-24T07:43:06.675075Z",
     "iopub.status.idle": "2022-02-24T07:43:06.680960Z",
     "shell.execute_reply": "2022-02-24T07:43:06.680356Z",
     "shell.execute_reply.started": "2022-02-24T07:43:06.675700Z"
    },
    "pycharm": {
     "name": "#%%\n"
    }
   },
   "outputs": [],
   "source": [
    "labels_to_keep = [\n",
    "    \"digit_0\", \"digit_1\", \"digit_2\", \"digit_3\", \"digit_4\", \"digit_5\", \"digit_6\", \"digit_7\", \"digit_8\", \"digit_9\"\n",
    "]"
   ]
  },
  {
   "cell_type": "markdown",
   "metadata": {
    "pycharm": {
     "name": "#%% md\n"
    }
   },
   "source": [
    "### Dataset and Model Parameters"
   ]
  },
  {
   "cell_type": "code",
   "execution_count": 9,
   "metadata": {
    "execution": {
     "iopub.execute_input": "2022-02-24T07:44:31.650656Z",
     "iopub.status.busy": "2022-02-24T07:44:31.650111Z",
     "iopub.status.idle": "2022-02-24T07:44:31.655616Z",
     "shell.execute_reply": "2022-02-24T07:44:31.655004Z",
     "shell.execute_reply.started": "2022-02-24T07:44:31.650605Z"
    },
    "pycharm": {
     "name": "#%%\n"
    }
   },
   "outputs": [],
   "source": [
    "RANDOM_SEED = 42\n",
    "\n",
    "# Data parameters\n",
    "IMG_HEIGHT = 32\n",
    "IMG_WIDTH = 32\n",
    "VALIDATION_SPLIT = 0.1\n",
    "\n",
    "# Model parameters\n",
    "BATCH_SIZE = 32\n",
    "KERNEL_SIZE = (3, 3)\n",
    "MAX_POOLING_SIZE = (2, 2)\n",
    "DROPOUT = 0.5\n",
    "\n",
    "num_classes = len(labels_to_keep)"
   ]
  },
  {
   "cell_type": "code",
   "execution_count": 10,
   "metadata": {
    "execution": {
     "iopub.execute_input": "2022-02-24T07:44:34.270521Z",
     "iopub.status.busy": "2022-02-24T07:44:34.270026Z",
     "iopub.status.idle": "2022-02-24T07:44:47.689700Z",
     "shell.execute_reply": "2022-02-24T07:44:47.688891Z",
     "shell.execute_reply.started": "2022-02-24T07:44:34.270484Z"
    },
    "pycharm": {
     "name": "#%%\n"
    }
   },
   "outputs": [
    {
     "name": "stdout",
     "output_type": "stream",
     "text": [
      "Gathering training dataset...\n",
      "Found 17000 files belonging to 10 classes.\n",
      "Using 15300 files for training.\n"
     ]
    },
    {
     "name": "stderr",
     "output_type": "stream",
     "text": [
      "2022-02-24 07:44:43.508323: I tensorflow/core/common_runtime/process_util.cc:146] Creating new thread pool with default inter op setting: 2. Tune using inter_op_parallelism_threads for best performance.\n"
     ]
    },
    {
     "name": "stdout",
     "output_type": "stream",
     "text": [
      "Gathering validation dataset...\n",
      "Found 17000 files belonging to 10 classes.\n",
      "Using 1700 files for validation.\n",
      "Gathering test dataset...\n",
      "Found 3000 files belonging to 10 classes.\n"
     ]
    }
   ],
   "source": [
    "classes = labels_to_keep\n",
    "classes_to_output_class_names = {\n",
    "    \"digit_0\": \"0\", \"digit_1\": \"1\", \"digit_2\": \"2\", \"digit_3\": \"3\", \"digit_4\": \"4\", \"digit_5\": \"5\", \"digit_6\": \"6\",\n",
    "    \"digit_7\": \"7\", \"digit_8\": \"8\", \"digit_9\": \"9\"\n",
    "}\n",
    "\n",
    "\n",
    "print(\"Gathering training dataset...\")\n",
    "train_dataset = image_dataset_from_directory(\n",
    "    os.path.join(DEVANAGARI_DATA_FOLDER, TRAIN_FOLDER_NAME),\n",
    "    labels=\"inferred\",\n",
    "    label_mode=\"int\",\n",
    "    class_names=classes,\n",
    "    color_mode=\"grayscale\",\n",
    "    batch_size=BATCH_SIZE,\n",
    "    image_size=(IMG_HEIGHT, IMG_WIDTH),\n",
    "    shuffle=True,\n",
    "    seed=RANDOM_SEED,\n",
    "    validation_split=VALIDATION_SPLIT,\n",
    "    subset=\"training\",\n",
    "    interpolation=\"bilinear\",\n",
    "    follow_links=False,\n",
    "    crop_to_aspect_ratio=False,\n",
    ")\n",
    "\n",
    "print(\"Gathering validation dataset...\")\n",
    "val_dataset = image_dataset_from_directory(\n",
    "    os.path.join(DEVANAGARI_DATA_FOLDER, TRAIN_FOLDER_NAME),\n",
    "    labels=\"inferred\",\n",
    "    label_mode=\"int\",\n",
    "    class_names=classes,\n",
    "    color_mode=\"grayscale\",\n",
    "    batch_size=BATCH_SIZE,\n",
    "    image_size=(IMG_HEIGHT, IMG_WIDTH),\n",
    "    shuffle=True,\n",
    "    seed=RANDOM_SEED,\n",
    "    validation_split=VALIDATION_SPLIT,\n",
    "    subset=\"validation\",\n",
    "    interpolation=\"bilinear\",\n",
    "    follow_links=False,\n",
    "    crop_to_aspect_ratio=False,\n",
    ")\n",
    "\n",
    "print(\"Gathering test dataset...\")\n",
    "test_dataset = image_dataset_from_directory(\n",
    "    os.path.join(DEVANAGARI_DATA_FOLDER, TEST_FOLDER_NAME),\n",
    "    labels=\"inferred\",\n",
    "    label_mode=\"int\",\n",
    "    class_names=classes,\n",
    "    color_mode=\"grayscale\",\n",
    "    batch_size=BATCH_SIZE,\n",
    "    image_size=(IMG_HEIGHT, IMG_WIDTH),\n",
    "    shuffle=True,\n",
    "    seed=RANDOM_SEED,\n",
    "    validation_split=None,  # None, so that we get all the data.\n",
    "    subset=None,\n",
    "    interpolation=\"bilinear\",\n",
    "    follow_links=False,\n",
    "    crop_to_aspect_ratio=False,\n",
    ")"
   ]
  },
  {
   "cell_type": "code",
   "execution_count": 11,
   "metadata": {
    "execution": {
     "iopub.execute_input": "2022-02-24T07:45:04.601039Z",
     "iopub.status.busy": "2022-02-24T07:45:04.600717Z",
     "iopub.status.idle": "2022-02-24T07:45:04.610026Z",
     "shell.execute_reply": "2022-02-24T07:45:04.608875Z",
     "shell.execute_reply.started": "2022-02-24T07:45:04.601004Z"
    },
    "pycharm": {
     "name": "#%%\n"
    }
   },
   "outputs": [
    {
     "data": {
      "text/plain": [
       "(TensorSpec(shape=(None, 32, 32, 1), dtype=tf.float32, name=None),\n",
       " TensorSpec(shape=(None,), dtype=tf.int32, name=None))"
      ]
     },
     "execution_count": 11,
     "metadata": {},
     "output_type": "execute_result"
    }
   ],
   "source": [
    "train_dataset.element_spec"
   ]
  },
  {
   "cell_type": "code",
   "execution_count": 12,
   "metadata": {
    "execution": {
     "iopub.execute_input": "2022-02-24T07:45:07.594221Z",
     "iopub.status.busy": "2022-02-24T07:45:07.593912Z",
     "iopub.status.idle": "2022-02-24T07:45:07.600952Z",
     "shell.execute_reply": "2022-02-24T07:45:07.600315Z",
     "shell.execute_reply.started": "2022-02-24T07:45:07.594191Z"
    },
    "pycharm": {
     "name": "#%%\n"
    }
   },
   "outputs": [
    {
     "name": "stdout",
     "output_type": "stream",
     "text": [
      "{0: 'digit_0', 1: 'digit_1', 2: 'digit_2', 3: 'digit_3', 4: 'digit_4', 5: 'digit_5', 6: 'digit_6', 7: 'digit_7', 8: 'digit_8', 9: 'digit_9'}\n"
     ]
    }
   ],
   "source": [
    "class_names_to_labels = dict([(cls_name, lbl) for cls_name, lbl in zip(classes, list(range(len(classes))))])\n",
    "# print(class_names_to_labels)\n",
    "labels_to_class_names = dict([(v, k) for k, v in class_names_to_labels.items()])\n",
    "print(labels_to_class_names)"
   ]
  },
  {
   "cell_type": "markdown",
   "metadata": {
    "pycharm": {
     "name": "#%% md\n"
    }
   },
   "source": [
    "### Look at the data\n",
    "Let us take a look at the data after it has been stored as a tensorflow tf.Data.Dataset object."
   ]
  },
  {
   "cell_type": "code",
   "execution_count": 13,
   "metadata": {
    "execution": {
     "iopub.execute_input": "2022-02-24T07:45:10.134769Z",
     "iopub.status.busy": "2022-02-24T07:45:10.133990Z",
     "iopub.status.idle": "2022-02-24T07:45:11.254998Z",
     "shell.execute_reply": "2022-02-24T07:45:11.254427Z",
     "shell.execute_reply.started": "2022-02-24T07:45:10.134729Z"
    },
    "pycharm": {
     "name": "#%%\n"
    }
   },
   "outputs": [
    {
     "name": "stderr",
     "output_type": "stream",
     "text": [
      "2022-02-24 07:45:10.175518: I tensorflow/compiler/mlir/mlir_graph_optimization_pass.cc:185] None of the MLIR Optimization Passes are enabled (registered 2)\n"
     ]
    },
    {
     "name": "stdout",
     "output_type": "stream",
     "text": [
      "(32, 32, 1)\n"
     ]
    },
    {
     "data": {
      "image/png": "[encoded data removed]",
      "text/plain": [
       "<Figure size 720x576 with 6 Axes>"
      ]
     },
     "metadata": {
      "needs_background": "light"
     },
     "output_type": "display_data"
    }
   ],
   "source": [
    "# Take a look at the input data\n",
    "rows = 2\n",
    "columns = 3\n",
    "fig = plt.figure(figsize=(10, 8))\n",
    "j = 1\n",
    "for images, labels in train_dataset.take(1):\n",
    "    print(images[0].shape)\n",
    "    for i, l in zip(images[:6], labels[:6]):\n",
    "        fig.add_subplot(rows, columns, j)\n",
    "        plt.imshow(tf.squeeze(i), cmap='gray', vmin=0, vmax=255)\n",
    "        plt.title(labels_to_class_names[int(l)])\n",
    "        j += 1"
   ]
  },
  {
   "cell_type": "markdown",
   "metadata": {
    "pycharm": {
     "name": "#%% md\n"
    }
   },
   "source": [
    "### Data Augmentation and Normalisation\n",
    "#### Normalisation\n",
    "\n",
    "The values of pixels in the images range from `[0, 255]`.\n",
    "\n",
    "We should normalize the values to be in the `[0, 1]` range.\n",
    "\n",
    "The purpose of Normalisation is to make values measured on different scales to be all \"squished\" or \"expanded\" to a common scale/range such as `[0, 1]`.\n",
    "This ensures that each variable in the data is given an equal importance and no variable influences the model parameters more than any other purely because it's values are larger.\n",
    "\n",
    "We will perform the normalization using <a href=\"https://www.tensorflow.org/api_docs/python/tf/keras/layers/Rescaling\"><code>tf.keras.layers.Rescaling</code></a>.\n",
    "\n",
    "#### Augmentation\n",
    "Augmenting the data allows us to ensure that the model doesn't just learn something that's common for the entire class, but has no meaning when it comes to classification.\n",
    "\n",
    "For example, consider a dataset with blue cars and red cars.\n",
    "\n",
    "If all the blue cars are facing to the right and all red cars are facing left, then the model will end up being influenced by the orientation of the car in the image, thus producing incorrect predications when you ask the model to predict, say, the color of a blue car facing to the left.\n",
    "\n",
    "By performing augmentations such as Flipping, Rotations, Zooming, Shearing, Translations etc, we prevent the model from learning/memorizing features which are irrelevant."
   ]
  },
  {
   "cell_type": "code",
   "execution_count": 14,
   "metadata": {
    "execution": {
     "iopub.execute_input": "2022-02-24T07:45:15.954642Z",
     "iopub.status.busy": "2022-02-24T07:45:15.954067Z",
     "iopub.status.idle": "2022-02-24T07:45:15.988566Z",
     "shell.execute_reply": "2022-02-24T07:45:15.987776Z",
     "shell.execute_reply.started": "2022-02-24T07:45:15.954606Z"
    },
    "jupyter": {
     "outputs_hidden": false
    },
    "pycharm": {
     "name": "#%%\n"
    }
   },
   "outputs": [],
   "source": [
    "# Scale images to the [0, 1] range\n",
    "normalization_layer = layers.Rescaling(1. / 255)\n",
    "# Data Augmentations\n",
    "with tf.device('/CPU:0'):\n",
    "    data_augmentation_layers = keras.Sequential(\n",
    "        [\n",
    "            # layers.RandomFlip(\"horizontal\",\n",
    "            #                   input_shape=(IMG_HEIGHT,\n",
    "            #                                IMG_WIDTH,\n",
    "            #                                1)),\n",
    "            # layers.RandomRotation(0.1),\n",
    "            layers.RandomZoom(0.05),\n",
    "            layers.RandomTranslation(0.05, 0.05),\n",
    "        ]\n",
    "    )"
   ]
  },
  {
   "cell_type": "markdown",
   "metadata": {
    "pycharm": {
     "name": "#%% md\n"
    }
   },
   "source": [
    "### Prefetch and Caching\n",
    "Learn about tf.data.Dataset Prefetching here: <https://www.tensorflow.org/api_docs/python/tf/data/Dataset#prefetch>\n",
    "Learn about tf.data.Dataset Caching here: <https://www.tensorflow.org/api_docs/python/tf/data/Dataset#cache>"
   ]
  },
  {
   "cell_type": "code",
   "execution_count": 15,
   "metadata": {
    "execution": {
     "iopub.execute_input": "2022-02-24T07:45:18.639231Z",
     "iopub.status.busy": "2022-02-24T07:45:18.638944Z",
     "iopub.status.idle": "2022-02-24T07:45:18.646654Z",
     "shell.execute_reply": "2022-02-24T07:45:18.645902Z",
     "shell.execute_reply.started": "2022-02-24T07:45:18.639201Z"
    },
    "pycharm": {
     "name": "#%%\n"
    }
   },
   "outputs": [],
   "source": [
    "# prefetching and caching data to improve performance.\n",
    "AUTOTUNE = tf.data.AUTOTUNE\n",
    "\n",
    "train_ds = train_dataset.cache().shuffle(1000).prefetch(buffer_size=AUTOTUNE)\n",
    "val_ds = val_dataset.cache().prefetch(buffer_size=AUTOTUNE)"
   ]
  },
  {
   "cell_type": "markdown",
   "metadata": {
    "pycharm": {
     "name": "#%% md\n"
    }
   },
   "source": [
    "### Checking Data Augmentation"
   ]
  },
  {
   "cell_type": "code",
   "execution_count": 16,
   "metadata": {
    "execution": {
     "iopub.execute_input": "2022-02-24T07:45:22.572091Z",
     "iopub.status.busy": "2022-02-24T07:45:22.571773Z",
     "iopub.status.idle": "2022-02-24T07:45:23.855715Z",
     "shell.execute_reply": "2022-02-24T07:45:23.854750Z",
     "shell.execute_reply.started": "2022-02-24T07:45:22.572061Z"
    },
    "pycharm": {
     "name": "#%%\n"
    }
   },
   "outputs": [
    {
     "data": {
      "image/png": "[encoded data removed]",
      "text/plain": [
       "<Figure size 432x288 with 1 Axes>"
      ]
     },
     "metadata": {
      "needs_background": "light"
     },
     "output_type": "display_data"
    },
    {
     "data": {
      "image/png": "[encoded data removed]",
      "text/plain": [
       "<Figure size 720x864 with 12 Axes>"
      ]
     },
     "metadata": {
      "needs_background": "light"
     },
     "output_type": "display_data"
    }
   ],
   "source": [
    "rows = 3\n",
    "columns = 4\n",
    "for images, _ in train_dataset.take(1):\n",
    "    plt.imshow(tf.squeeze(images[0]), cmap='gray', vmin=0, vmax=255)\n",
    "    fig = plt.figure(figsize=(10, 12))\n",
    "    for i in range(12):\n",
    "        with tf.device('/CPU:0'):\n",
    "            augmented_images = data_augmentation_layers(images)\n",
    "        fig.add_subplot(rows, columns, i + 1)\n",
    "        # plt.imshow(augmented_images[0].numpy().astype(\"uint8\"))\n",
    "        plt.imshow(tf.squeeze(augmented_images[0]), cmap='gray', vmin=0, vmax=255)\n",
    "        plt.axis(\"off\")"
   ]
  },
  {
   "cell_type": "markdown",
   "metadata": {
    "pycharm": {
     "name": "#%% md\n"
    }
   },
   "source": [
    "### Creating the Model\n",
    "\n",
    "First, we'll add the `data_augmentation_layers` and the `normalization_layer`, following which we'll create a convolutional neural network.\n",
    "\n",
    "Learn more about CNNs here: <https://machinelearningmastery.com/convolutional-layers-for-deep-learning-neural-networks/>"
   ]
  },
  {
   "cell_type": "code",
   "execution_count": 17,
   "metadata": {
    "execution": {
     "iopub.execute_input": "2022-02-24T07:45:26.907650Z",
     "iopub.status.busy": "2022-02-24T07:45:26.907371Z",
     "iopub.status.idle": "2022-02-24T07:45:26.929555Z",
     "shell.execute_reply": "2022-02-24T07:45:26.928423Z",
     "shell.execute_reply.started": "2022-02-24T07:45:26.907621Z"
    },
    "pycharm": {
     "name": "#%%\n"
    }
   },
   "outputs": [],
   "source": [
    "model = keras.Sequential(\n",
    "    [\n",
    "        data_augmentation_layers,\n",
    "        normalization_layer,\n",
    "        layers.Conv2D(32, kernel_size=KERNEL_SIZE, activation=\"relu\"),\n",
    "        layers.MaxPooling2D(pool_size=MAX_POOLING_SIZE),\n",
    "        layers.Conv2D(64, kernel_size=KERNEL_SIZE, activation=\"relu\"),\n",
    "        layers.MaxPooling2D(pool_size=MAX_POOLING_SIZE),\n",
    "        layers.Dropout(DROPOUT),\n",
    "        layers.Flatten(),\n",
    "        layers.Dense(128, activation='relu'),\n",
    "        layers.Dense(num_classes, activation=\"softmax\"),\n",
    "    ]\n",
    ")"
   ]
  },
  {
   "cell_type": "markdown",
   "metadata": {
    "pycharm": {
     "name": "#%% md\n"
    }
   },
   "source": [
    "### Compiling and Building Model\n",
    "Note that we are using Categorical Crossentropy as the loss function, and this is well suited for categorical output data.\n",
    "Read more here: <https://en.wikipedia.org/wiki/Cross_entropy#Cross-entropy_loss_function_and_logistic_regression>"
   ]
  },
  {
   "cell_type": "code",
   "execution_count": 18,
   "metadata": {
    "execution": {
     "iopub.execute_input": "2022-02-24T07:45:29.131265Z",
     "iopub.status.busy": "2022-02-24T07:45:29.130457Z",
     "iopub.status.idle": "2022-02-24T07:45:29.674588Z",
     "shell.execute_reply": "2022-02-24T07:45:29.673746Z",
     "shell.execute_reply.started": "2022-02-24T07:45:29.131230Z"
    },
    "pycharm": {
     "name": "#%%\n"
    }
   },
   "outputs": [
    {
     "name": "stdout",
     "output_type": "stream",
     "text": [
      "Model: \"sequential_1\"\n",
      "_________________________________________________________________\n",
      "Layer (type)                 Output Shape              Param #   \n",
      "=================================================================\n",
      "sequential (Sequential)      (32, 32, 32, 1)           0         \n",
      "_________________________________________________________________\n",
      "rescaling (Rescaling)        (32, 32, 32, 1)           0         \n",
      "_________________________________________________________________\n",
      "conv2d (Conv2D)              (32, 30, 30, 32)          320       \n",
      "_________________________________________________________________\n",
      "max_pooling2d (MaxPooling2D) (32, 15, 15, 32)          0         \n",
      "_________________________________________________________________\n",
      "conv2d_1 (Conv2D)            (32, 13, 13, 64)          18496     \n",
      "_________________________________________________________________\n",
      "max_pooling2d_1 (MaxPooling2 (32, 6, 6, 64)            0         \n",
      "_________________________________________________________________\n",
      "dropout (Dropout)            (32, 6, 6, 64)            0         \n",
      "_________________________________________________________________\n",
      "flatten (Flatten)            (32, 2304)                0         \n",
      "_________________________________________________________________\n",
      "dense (Dense)                (32, 128)                 295040    \n",
      "_________________________________________________________________\n",
      "dense_1 (Dense)              (32, 10)                  1290      \n",
      "=================================================================\n",
      "Total params: 315,146\n",
      "Trainable params: 315,146\n",
      "Non-trainable params: 0\n",
      "_________________________________________________________________\n"
     ]
    }
   ],
   "source": [
    "model.compile(optimizer='adam',\n",
    "              loss=tf.keras.losses.SparseCategoricalCrossentropy(from_logits=True),\n",
    "              metrics=['accuracy'])\n",
    "model.build(input_shape=(BATCH_SIZE, IMG_HEIGHT, IMG_WIDTH, 1))\n",
    "model.summary()"
   ]
  },
  {
   "cell_type": "code",
   "execution_count": 19,
   "metadata": {
    "execution": {
     "iopub.execute_input": "2022-02-24T07:45:32.421121Z",
     "iopub.status.busy": "2022-02-24T07:45:32.420835Z",
     "iopub.status.idle": "2022-02-24T07:48:58.811254Z",
     "shell.execute_reply": "2022-02-24T07:48:58.810436Z",
     "shell.execute_reply.started": "2022-02-24T07:45:32.421090Z"
    },
    "pycharm": {
     "name": "#%%\n"
    }
   },
   "outputs": [
    {
     "name": "stdout",
     "output_type": "stream",
     "text": [
      "Epoch 1/15\n"
     ]
    },
    {
     "name": "stderr",
     "output_type": "stream",
     "text": [
      "/opt/conda/lib/python3.7/site-packages/keras/backend.py:4907: UserWarning: \"`sparse_categorical_crossentropy` received `from_logits=True`, but the `output` argument was produced by a sigmoid or softmax activation and thus does not represent logits. Was this intended?\"\n",
      "  '\"`sparse_categorical_crossentropy` received `from_logits=True`, but '\n"
     ]
    },
    {
     "name": "stdout",
     "output_type": "stream",
     "text": [
      "479/479 [==============================] - 14s 27ms/step - loss: 0.3417 - accuracy: 0.8871 - val_loss: 0.0574 - val_accuracy: 0.9829\n",
      "Epoch 2/15\n",
      "479/479 [==============================] - 10s 21ms/step - loss: 0.0956 - accuracy: 0.9699 - val_loss: 0.0426 - val_accuracy: 0.9882\n",
      "Epoch 3/15\n",
      "479/479 [==============================] - 11s 22ms/step - loss: 0.0665 - accuracy: 0.9797 - val_loss: 0.0259 - val_accuracy: 0.9894\n",
      "Epoch 4/15\n",
      "479/479 [==============================] - 10s 21ms/step - loss: 0.0480 - accuracy: 0.9865 - val_loss: 0.0215 - val_accuracy: 0.9906\n",
      "Epoch 5/15\n",
      "479/479 [==============================] - 10s 21ms/step - loss: 0.0389 - accuracy: 0.9878 - val_loss: 0.0192 - val_accuracy: 0.9941\n",
      "Epoch 6/15\n",
      "479/479 [==============================] - 11s 23ms/step - loss: 0.0344 - accuracy: 0.9890 - val_loss: 0.0244 - val_accuracy: 0.9912\n",
      "Epoch 7/15\n",
      "479/479 [==============================] - 10s 21ms/step - loss: 0.0299 - accuracy: 0.9907 - val_loss: 0.0184 - val_accuracy: 0.9935\n",
      "Epoch 8/15\n",
      "479/479 [==============================] - 10s 21ms/step - loss: 0.0263 - accuracy: 0.9919 - val_loss: 0.0162 - val_accuracy: 0.9941\n",
      "Epoch 9/15\n",
      "479/479 [==============================] - 11s 22ms/step - loss: 0.0255 - accuracy: 0.9917 - val_loss: 0.0119 - val_accuracy: 0.9953\n",
      "Epoch 10/15\n",
      "479/479 [==============================] - 10s 21ms/step - loss: 0.0227 - accuracy: 0.9932 - val_loss: 0.0125 - val_accuracy: 0.9959\n",
      "Epoch 11/15\n",
      "479/479 [==============================] - 10s 21ms/step - loss: 0.0180 - accuracy: 0.9941 - val_loss: 0.0119 - val_accuracy: 0.9965\n",
      "Epoch 12/15\n",
      "479/479 [==============================] - 10s 21ms/step - loss: 0.0189 - accuracy: 0.9940 - val_loss: 0.0225 - val_accuracy: 0.9935\n",
      "Epoch 13/15\n",
      "479/479 [==============================] - 11s 22ms/step - loss: 0.0175 - accuracy: 0.9944 - val_loss: 0.0175 - val_accuracy: 0.9941\n",
      "Epoch 14/15\n",
      "479/479 [==============================] - 10s 21ms/step - loss: 0.0140 - accuracy: 0.9956 - val_loss: 0.0121 - val_accuracy: 0.9953\n",
      "Epoch 15/15\n",
      "479/479 [==============================] - 10s 21ms/step - loss: 0.0136 - accuracy: 0.9957 - val_loss: 0.0179 - val_accuracy: 0.9941\n"
     ]
    }
   ],
   "source": [
    "epochs = 15\n",
    "history = model.fit(\n",
    "    train_dataset,\n",
    "    validation_data=val_dataset,\n",
    "    epochs=epochs\n",
    ")"
   ]
  },
  {
   "cell_type": "markdown",
   "metadata": {
    "pycharm": {
     "name": "#%% md\n"
    }
   },
   "source": [
    "### Measuring Performance on Training and Test Data"
   ]
  },
  {
   "cell_type": "code",
   "execution_count": 20,
   "metadata": {
    "execution": {
     "iopub.execute_input": "2022-02-24T07:48:58.813010Z",
     "iopub.status.busy": "2022-02-24T07:48:58.812804Z",
     "iopub.status.idle": "2022-02-24T07:48:59.263402Z",
     "shell.execute_reply": "2022-02-24T07:48:59.262523Z",
     "shell.execute_reply.started": "2022-02-24T07:48:58.812984Z"
    },
    "pycharm": {
     "name": "#%%\n"
    }
   },
   "outputs": [
    {
     "data": {
      "image/png": "[encoded data removed]",
      "text/plain": [
       "<Figure size 1080x360 with 2 Axes>"
      ]
     },
     "metadata": {
      "needs_background": "light"
     },
     "output_type": "display_data"
    }
   ],
   "source": [
    "acc = history.history['accuracy']\n",
    "val_acc = history.history['val_accuracy']\n",
    "\n",
    "loss = history.history['loss']\n",
    "val_loss = history.history['val_loss']\n",
    "\n",
    "epochs_range = range(1, epochs + 1)\n",
    "\n",
    "fig = plt.figure(figsize=(15, 5))\n",
    "fig.add_subplot(1, 2, 1)\n",
    "sns.lineplot(x=epochs_range, y=acc, legend='brief', label='Training Accuracy')\n",
    "sns.lineplot(x=epochs_range, y=val_acc, legend='brief', label='Validation Accuracy')\n",
    "\n",
    "fig.add_subplot(1, 2, 2)\n",
    "sns.lineplot(x=epochs_range, y=loss, legend='brief', label='Training Loss')\n",
    "sns.lineplot(x=epochs_range, y=val_loss, legend='brief', label='Validation Loss')\n",
    "plt.show()"
   ]
  },
  {
   "cell_type": "markdown",
   "metadata": {},
   "source": [
    "### Metrics\n",
    "\n",
    "| Data       | Accuracy | Loss   |\n",
    "|:-----------|:--------:|-------:|\n",
    "| Training   | 99.52%   | 0.0139 |\n",
    "| Validation | 99.65%   | 0.0107 |\n",
    "\n",
    "<!-- Training Accuracy: 99.52%\n",
    "\n",
    "Validation Accuracy: 99.65%\n",
    "\n",
    "Training Loss: 0.0139\n",
    "\n",
    "Validation Loss: 0.0107 -->\n",
    "\n",
    "\n",
    "We can see that the model's accuracy and validation accuracy quickly went up during and after the first epoch and then it saturated around epoch #10. \n",
    "\n",
    "Training and validation loss also fell dramatically after the second epoch, and reached a saturation around epoch #11."
   ]
  },
  {
   "cell_type": "code",
   "execution_count": 22,
   "metadata": {
    "execution": {
     "iopub.execute_input": "2022-02-24T07:49:01.620529Z",
     "iopub.status.busy": "2022-02-24T07:49:01.620205Z",
     "iopub.status.idle": "2022-02-24T07:49:02.725773Z",
     "shell.execute_reply": "2022-02-24T07:49:02.724918Z",
     "shell.execute_reply.started": "2022-02-24T07:49:01.620488Z"
    },
    "pycharm": {
     "name": "#%%\n"
    }
   },
   "outputs": [
    {
     "name": "stdout",
     "output_type": "stream",
     "text": [
      "Evaluate\n",
      "94/94 [==============================] - 1s 11ms/step - loss: 0.0215 - accuracy: 0.9953\n"
     ]
    }
   ],
   "source": [
    "print(\"Evaluate\")\n",
    "result = model.evaluate(test_dataset)\n",
    "result = dict(zip(model.metrics_names, result))"
   ]
  }
 ],
 "metadata": {
  "anaconda-cloud": {},
  "interpreter": {
   "hash": "bac202e34058ad38db675308b80e7de5e5ddbf57c78c80cc2ab122b4e0e7a6d0"
  },
  "kernelspec": {
   "display_name": "Python 3",
   "language": "python",
   "name": "python3"
  },
  "language_info": {
   "codemirror_mode": {
    "name": "ipython",
    "version": 3
   },
   "file_extension": ".py",
   "mimetype": "text/x-python",
   "name": "python",
   "nbconvert_exporter": "python",
   "pygments_lexer": "ipython3",
   "version": "3.8.8"
  }
 },
 "nbformat": 4,
 "nbformat_minor": 4
}

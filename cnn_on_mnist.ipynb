{
  "nbformat": 4,
  "nbformat_minor": 0,
  "metadata": {
    "colab": {
      "provenance": [],
      "collapsed_sections": []
    },
    "kernelspec": {
      "name": "python3",
      "display_name": "Python 3"
    },
    "language_info": {
      "name": "python"
    }
  },
  "cells": [
    {
      "cell_type": "markdown",
      "source": [
        "Import necessary packages"
      ],
      "metadata": {
        "id": "JtsVdGqV1d6B"
      }
    },
    {
      "cell_type": "code",
      "execution_count": 2,
      "metadata": {
        "id": "TpKjt7W2rZVV"
      },
      "outputs": [],
      "source": [
        "import tensorflow as tf\n",
        "from tensorflow import keras\n",
        "from tensorflow.keras import datasets, layers, models\n",
        "from keras import backend as K\n",
        "import matplotlib.pyplot as plt\n",
        "%matplotlib inline\n",
        "import numpy as np"
      ]
    },
    {
      "cell_type": "markdown",
      "source": [
        "Loading dataset"
      ],
      "metadata": {
        "id": "Pv6r_6UK1nEr"
      }
    },
    {
      "cell_type": "code",
      "source": [
        "(X_train, y_train) , (X_test, y_test) = keras.datasets.mnist.load_data()"
      ],
      "metadata": {
        "colab": {
          "base_uri": "https://localhost:8080/"
        },
        "id": "ycRQrtQ9tUqf",
        "outputId": "7a852bc4-15da-42b0-fc4f-3bd249ba3359"
      },
      "execution_count": 3,
      "outputs": [
        {
          "output_type": "stream",
          "name": "stdout",
          "text": [
            "Downloading data from https://storage.googleapis.com/tensorflow/tf-keras-datasets/mnist.npz\n",
            "11490434/11490434 [==============================] - 0s 0us/step\n"
          ]
        }
      ]
    },
    {
      "cell_type": "code",
      "source": [
        "X_train.shape"
      ],
      "metadata": {
        "colab": {
          "base_uri": "https://localhost:8080/"
        },
        "id": "cQwlC5BdtYkX",
        "outputId": "d5cf0781-399a-4e12-85f1-36f495d400db"
      },
      "execution_count": 4,
      "outputs": [
        {
          "output_type": "execute_result",
          "data": {
            "text/plain": [
              "(60000, 28, 28)"
            ]
          },
          "metadata": {},
          "execution_count": 4
        }
      ]
    },
    {
      "cell_type": "code",
      "source": [
        "X_test.shape"
      ],
      "metadata": {
        "colab": {
          "base_uri": "https://localhost:8080/"
        },
        "id": "IJnyvAPGtbiu",
        "outputId": "6d0295ff-b82e-4ab8-8724-5378c02ab69a"
      },
      "execution_count": 5,
      "outputs": [
        {
          "output_type": "execute_result",
          "data": {
            "text/plain": [
              "(10000, 28, 28)"
            ]
          },
          "metadata": {},
          "execution_count": 5
        }
      ]
    },
    {
      "cell_type": "code",
      "source": [
        "X_train[0].shape\n"
      ],
      "metadata": {
        "colab": {
          "base_uri": "https://localhost:8080/"
        },
        "id": "0JZGw7Lgtdw2",
        "outputId": "c29ca3f1-8bb8-4a93-f6df-274ea602d0be"
      },
      "execution_count": 6,
      "outputs": [
        {
          "output_type": "execute_result",
          "data": {
            "text/plain": [
              "(28, 28)"
            ]
          },
          "metadata": {},
          "execution_count": 6
        }
      ]
    },
    {
      "cell_type": "code",
      "source": [
        "plt.matshow(X_train[0])\n"
      ],
      "metadata": {
        "colab": {
          "base_uri": "https://localhost:8080/",
          "height": 292
        },
        "id": "3j7eIqDythWG",
        "outputId": "d76e3a81-fe49-49ed-f7af-33156c78b83a"
      },
      "execution_count": 7,
      "outputs": [
        {
          "output_type": "execute_result",
          "data": {
            "text/plain": [
              "<matplotlib.image.AxesImage at 0x7fe251a3b290>"
            ]
          },
          "metadata": {},
          "execution_count": 7
        },
        {
          "output_type": "display_data",
          "data": {
            "text/plain": [
              "<Figure size 288x288 with 1 Axes>"
            ],
            "image/png": "[encoded data removed]"
          },
          "metadata": {
            "needs_background": "light"
          }
        }
      ]
    },
    {
      "cell_type": "code",
      "source": [
        "y_train[0]\n"
      ],
      "metadata": {
        "colab": {
          "base_uri": "https://localhost:8080/"
        },
        "id": "Mw-zWlJTtj2R",
        "outputId": "348fbc60-3a77-43ca-de36-0579c94f7b62"
      },
      "execution_count": 8,
      "outputs": [
        {
          "output_type": "execute_result",
          "data": {
            "text/plain": [
              "5"
            ]
          },
          "metadata": {},
          "execution_count": 8
        }
      ]
    },
    {
      "cell_type": "markdown",
      "source": [
        "Scaling the train and test dataset"
      ],
      "metadata": {
        "id": "uywxUafj1tX7"
      }
    },
    {
      "cell_type": "code",
      "source": [
        "X_train = X_train / 255\n",
        "X_test = X_test / 255"
      ],
      "metadata": {
        "id": "sv2TOxPYtmo-"
      },
      "execution_count": 9,
      "outputs": []
    },
    {
      "cell_type": "code",
      "source": [
        "X_train = X_train.reshape(-1,28,28,1)\n",
        "X_train.shape"
      ],
      "metadata": {
        "colab": {
          "base_uri": "https://localhost:8080/"
        },
        "id": "gOR-lcBwuDHZ",
        "outputId": "3172cc03-e1c2-448a-ecfc-ed3bd9795f5a"
      },
      "execution_count": 10,
      "outputs": [
        {
          "output_type": "execute_result",
          "data": {
            "text/plain": [
              "(60000, 28, 28, 1)"
            ]
          },
          "metadata": {},
          "execution_count": 10
        }
      ]
    },
    {
      "cell_type": "code",
      "source": [
        "X_test = X_test.reshape(-1,28,28,1)\n",
        "X_test.shape"
      ],
      "metadata": {
        "colab": {
          "base_uri": "https://localhost:8080/"
        },
        "id": "zbozhy7zuHkm",
        "outputId": "9d457945-7ea3-48e7-fc75-fee6977bcc82"
      },
      "execution_count": 11,
      "outputs": [
        {
          "output_type": "execute_result",
          "data": {
            "text/plain": [
              "(10000, 28, 28, 1)"
            ]
          },
          "metadata": {},
          "execution_count": 11
        }
      ]
    },
    {
      "cell_type": "markdown",
      "source": [
        "Creating and Training a Convolutional Neural Network"
      ],
      "metadata": {
        "id": "K5KXO-Pz0_O7"
      }
    },
    {
      "cell_type": "code",
      "source": [
        "model = keras.Sequential([\n",
        "    \n",
        "    layers.Conv2D(32, (5,5), activation='relu', input_shape=(28, 28, 1)),\n",
        "    layers.MaxPooling2D((2,2)),\n",
        "\n",
        "    layers.Conv2D(32, (5,5), activation='relu', input_shape=(28, 28, 1)),\n",
        "    layers.MaxPooling2D((2,2)),\n",
        "\n",
        "    layers.Conv2D(64, (4,4), input_shape=(28, 28, 1)),\n",
        "    \n",
        " \n",
        "    layers.Flatten(),\n",
        "    keras.layers.Dense(256, activation='relu'),\n",
        "    keras.layers.Dense(10, activation='softmax')\n",
        "])"
      ],
      "metadata": {
        "id": "xdvR0snsuPq2"
      },
      "execution_count": 12,
      "outputs": []
    },
    {
      "cell_type": "code",
      "source": [
        "optimizer = tf.keras.optimizers.SGD(0.01)\n",
        "optimizer.learning_rate.assign(0.001)"
      ],
      "metadata": {
        "colab": {
          "base_uri": "https://localhost:8080/"
        },
        "id": "50lg_TWGzc8h",
        "outputId": "d126a813-5ddf-48b2-dd3d-54cb17c6a4fc"
      },
      "execution_count": 13,
      "outputs": [
        {
          "output_type": "execute_result",
          "data": {
            "text/plain": [
              "<tf.Variable 'UnreadVariable' shape=() dtype=float32, numpy=0.001>"
            ]
          },
          "metadata": {},
          "execution_count": 13
        }
      ]
    },
    {
      "cell_type": "code",
      "source": [
        "model.compile(optimizer='SGD',\n",
        "              loss='sparse_categorical_crossentropy',\n",
        "              metrics=['accuracy'])\n",
        "\n",
        "model.fit(X_train, y_train,batch_size=40, epochs=12)"
      ],
      "metadata": {
        "colab": {
          "base_uri": "https://localhost:8080/"
        },
        "id": "41L26VcSwIm3",
        "outputId": "a5cd4b56-9e79-4a7d-8501-fcd6dedaa529"
      },
      "execution_count": 24,
      "outputs": [
        {
          "output_type": "stream",
          "name": "stdout",
          "text": [
            "Epoch 1/12\n",
            "1500/1500 [==============================] - 54s 36ms/step - loss: 0.0326 - accuracy: 0.9896\n",
            "Epoch 2/12\n",
            "1500/1500 [==============================] - 54s 36ms/step - loss: 0.0307 - accuracy: 0.9905\n",
            "Epoch 3/12\n",
            "1500/1500 [==============================] - 54s 36ms/step - loss: 0.0288 - accuracy: 0.9912\n",
            "Epoch 4/12\n",
            "1500/1500 [==============================] - 57s 38ms/step - loss: 0.0267 - accuracy: 0.9919\n",
            "Epoch 5/12\n",
            "1500/1500 [==============================] - 54s 36ms/step - loss: 0.0250 - accuracy: 0.9925\n",
            "Epoch 6/12\n",
            "1500/1500 [==============================] - 54s 36ms/step - loss: 0.0241 - accuracy: 0.9926\n",
            "Epoch 7/12\n",
            "1500/1500 [==============================] - 54s 36ms/step - loss: 0.0229 - accuracy: 0.9930\n",
            "Epoch 8/12\n",
            "1500/1500 [==============================] - 54s 36ms/step - loss: 0.0212 - accuracy: 0.9938\n",
            "Epoch 9/12\n",
            "1500/1500 [==============================] - 57s 38ms/step - loss: 0.0203 - accuracy: 0.9936\n",
            "Epoch 10/12\n",
            "1500/1500 [==============================] - 55s 37ms/step - loss: 0.0194 - accuracy: 0.9944\n",
            "Epoch 11/12\n",
            "1500/1500 [==============================] - 55s 37ms/step - loss: 0.0181 - accuracy: 0.9944\n",
            "Epoch 12/12\n",
            "1500/1500 [==============================] - 55s 37ms/step - loss: 0.0171 - accuracy: 0.9947\n"
          ]
        },
        {
          "output_type": "execute_result",
          "data": {
            "text/plain": [
              "<keras.callbacks.History at 0x7fe24d1559d0>"
            ]
          },
          "metadata": {},
          "execution_count": 24
        }
      ]
    },
    {
      "cell_type": "code",
      "source": [
        "y_test[:5]"
      ],
      "metadata": {
        "colab": {
          "base_uri": "https://localhost:8080/"
        },
        "id": "OIgBSqykzzOG",
        "outputId": "17878f6c-0222-4eb7-96d1-548428b8da11"
      },
      "execution_count": 33,
      "outputs": [
        {
          "output_type": "execute_result",
          "data": {
            "text/plain": [
              "array([7, 2, 1, 0, 4], dtype=uint8)"
            ]
          },
          "metadata": {},
          "execution_count": 33
        }
      ]
    },
    {
      "cell_type": "markdown",
      "source": [
        "Evaluating the CNN model"
      ],
      "metadata": {
        "id": "31FQp1DO2Bbp"
      }
    },
    {
      "cell_type": "code",
      "source": [
        "model.evaluate(X_test,y_test)"
      ],
      "metadata": {
        "colab": {
          "base_uri": "https://localhost:8080/"
        },
        "id": "8Mh6AgJ14u1L",
        "outputId": "97a33bd2-f038-49d1-ca87-f20749ece1ef"
      },
      "execution_count": 26,
      "outputs": [
        {
          "output_type": "stream",
          "name": "stdout",
          "text": [
            "313/313 [==============================] - 3s 9ms/step - loss: 0.0326 - accuracy: 0.9889\n"
          ]
        },
        {
          "output_type": "execute_result",
          "data": {
            "text/plain": [
              "[0.032596200704574585, 0.9889000058174133]"
            ]
          },
          "metadata": {},
          "execution_count": 26
        }
      ]
    },
    {
      "cell_type": "code",
      "source": [
        "y_predicted = model.predict(X_test)\n",
        "y_predicted[0]"
      ],
      "metadata": {
        "colab": {
          "base_uri": "https://localhost:8080/"
        },
        "id": "jlC-4Rdx4zGd",
        "outputId": "20145d45-e765-4b28-8aac-a76bce357e4e"
      },
      "execution_count": 27,
      "outputs": [
        {
          "output_type": "stream",
          "name": "stdout",
          "text": [
            "313/313 [==============================] - 3s 9ms/step\n"
          ]
        },
        {
          "output_type": "execute_result",
          "data": {
            "text/plain": [
              "array([5.6590403e-09, 1.3247114e-07, 2.5427076e-05, 4.9570344e-06,\n",
              "       3.6202918e-10, 7.4846520e-09, 1.0201739e-12, 9.9996728e-01,\n",
              "       4.7291550e-08, 2.1524481e-06], dtype=float32)"
            ]
          },
          "metadata": {},
          "execution_count": 27
        }
      ]
    },
    {
      "cell_type": "markdown",
      "source": [
        " np.argmax finds a maximum element from an array and returns the index of it"
      ],
      "metadata": {
        "id": "Tz9kK8Kw2UFm"
      }
    },
    {
      "cell_type": "code",
      "source": [
        "np.argmax(y_predicted[0])"
      ],
      "metadata": {
        "colab": {
          "base_uri": "https://localhost:8080/"
        },
        "id": "3I4mIX5Nzl2R",
        "outputId": "84f3696a-8167-41a5-c3fb-d6d9bcd405fe"
      },
      "execution_count": 28,
      "outputs": [
        {
          "output_type": "execute_result",
          "data": {
            "text/plain": [
              "7"
            ]
          },
          "metadata": {},
          "execution_count": 28
        }
      ]
    },
    {
      "cell_type": "code",
      "source": [
        "y_predicted_labels = [np.argmax(i) for i in y_predicted]"
      ],
      "metadata": {
        "id": "GgbvYrU1zqQg"
      },
      "execution_count": 29,
      "outputs": []
    },
    {
      "cell_type": "code",
      "source": [
        "y_predicted_labels[:5]"
      ],
      "metadata": {
        "colab": {
          "base_uri": "https://localhost:8080/"
        },
        "id": "L3DCWreMztrq",
        "outputId": "d5bb619f-b533-4248-f6b4-e96bdacbe8d8"
      },
      "execution_count": 30,
      "outputs": [
        {
          "output_type": "execute_result",
          "data": {
            "text/plain": [
              "[7, 2, 1, 0, 4]"
            ]
          },
          "metadata": {},
          "execution_count": 30
        }
      ]
    },
    {
      "cell_type": "code",
      "source": [
        "cm = tf.math.confusion_matrix(labels=y_test,predictions=y_predicted_labels)\n",
        "cm"
      ],
      "metadata": {
        "colab": {
          "base_uri": "https://localhost:8080/"
        },
        "id": "95NqFKW9zyLh",
        "outputId": "212a5d73-0ace-421c-bdd1-0ee7f3b34af9"
      },
      "execution_count": 31,
      "outputs": [
        {
          "output_type": "execute_result",
          "data": {
            "text/plain": [
              "<tf.Tensor: shape=(10, 10), dtype=int32, numpy=\n",
              "array([[ 974,    0,    2,    0,    0,    0,    0,    2,    2,    0],\n",
              "       [   0, 1129,    1,    0,    0,    1,    1,    1,    1,    1],\n",
              "       [   2,    0, 1028,    0,    0,    0,    0,    1,    1,    0],\n",
              "       [   1,    0,    4,  994,    0,    6,    0,    0,    4,    1],\n",
              "       [   0,    0,    2,    0,  968,    0,    1,    1,    0,   10],\n",
              "       [   2,    0,    0,    4,    0,  882,    1,    0,    3,    0],\n",
              "       [   3,    2,    0,    1,    2,    5,  944,    0,    1,    0],\n",
              "       [   1,    2,   11,    1,    0,    0,    0, 1006,    3,    4],\n",
              "       [   3,    0,    1,    0,    0,    1,    1,    0,  966,    2],\n",
              "       [   1,    2,    0,    0,    2,    3,    0,    2,    1,  998]],\n",
              "      dtype=int32)>"
            ]
          },
          "metadata": {},
          "execution_count": 31
        }
      ]
    },
    {
      "cell_type": "code",
      "source": [
        "import seaborn as sn\n",
        "plt.figure(figsize = (10,7))\n",
        "sn.heatmap(cm, annot=True, fmt='d')\n",
        "plt.xlabel('Predicted')\n",
        "plt.ylabel('Truth')"
      ],
      "metadata": {
        "colab": {
          "base_uri": "https://localhost:8080/",
          "height": 459
        },
        "id": "RT4oyPzBz0sB",
        "outputId": "f243db22-a3b9-4f0b-9fb7-2d833ecc86f9"
      },
      "execution_count": 32,
      "outputs": [
        {
          "output_type": "execute_result",
          "data": {
            "text/plain": [
              "Text(69.0, 0.5, 'Truth')"
            ]
          },
          "metadata": {},
          "execution_count": 32
        },
        {
          "output_type": "display_data",
          "data": {
            "text/plain": [
              "<Figure size 720x504 with 2 Axes>"
            ],
            "image/png": "[encoded data removed]"
          },
          "metadata": {
            "needs_background": "light"
          }
        }
      ]
    },
    {
      "cell_type": "code",
      "source": [],
      "metadata": {
        "id": "rpeNOtTOz3RD"
      },
      "execution_count": 32,
      "outputs": []
    }
  ]
}